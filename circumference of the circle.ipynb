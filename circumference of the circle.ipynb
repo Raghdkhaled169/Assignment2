{
 "cells": [
  {
   "cell_type": "code",
   "execution_count": 1,
   "metadata": {},
   "outputs": [
    {
     "name": "stdout",
     "output_type": "stream",
     "text": [
      "Enter the raduis : 5\n"
     ]
    }
   ],
   "source": [
    "import math\n",
    "radius=float(input(\"Enter the raduis : \"))"
   ]
  },
  {
   "cell_type": "code",
   "execution_count": 2,
   "metadata": {},
   "outputs": [
    {
     "name": "stdout",
     "output_type": "stream",
     "text": [
      "Circuimference of the circle : 31.41592653589793\n"
     ]
    }
   ],
   "source": [
    "circ_ference = 2*math.pi*radius\n",
    "circumference=str(circ_ference)\n",
    "print(\"Circuimference of the circle : \"+circumference)"
   ]
  }
 ],
 "metadata": {
  "kernelspec": {
   "display_name": "Python 3",
   "language": "python",
   "name": "python3"
  },
  "language_info": {
   "codemirror_mode": {
    "name": "ipython",
    "version": 3
   },
   "file_extension": ".py",
   "mimetype": "text/x-python",
   "name": "python",
   "nbconvert_exporter": "python",
   "pygments_lexer": "ipython3",
   "version": "3.8.5"
  }
 },
 "nbformat": 4,
 "nbformat_minor": 4
}
